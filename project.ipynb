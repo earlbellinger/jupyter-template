{
 "cells": [
  {
   "cell_type": "markdown",
   "metadata": {},
   "source": [
    "# Project title\n",
    "\n",
    "### Project subtitle\n",
    "\n",
    "\n",
    "[Earl Patrick Bellinger](https://earlbellinger.com)$^{1,2}$\n",
    "\n",
    "$^1$_Max Planck Institute for Astrophysics, Garching, Germany_ \n",
    "\n",
    "$^2$_Stellar Astrophysics Centre, Aarhus, Denmark_"
   ]
  },
  {
   "cell_type": "code",
   "execution_count": 1,
   "metadata": {
    "ExecuteTime": {
     "end_time": "2023-02-06T10:41:54.753454Z",
     "start_time": "2023-02-06T10:41:53.055123Z"
    }
   },
   "outputs": [],
   "source": [
    "import os\n",
    "\n",
    "import numpy as np\n",
    "import pandas as pd\n",
    "import scipy as sp\n",
    "\n",
    "import matplotlib as mpl\n",
    "import matplotlib.pyplot as plt\n",
    "\n",
    "from scipy import integrate\n",
    "from scipy.optimize import minimize\n",
    "from scipy.interpolate import interp1d\n",
    "\n",
    "from astropy import constants as cnt\n",
    "from astropy import units as unt\n",
    "\n",
    "import dask.dataframe as dd\n",
    "import dask.array as da\n",
    "\n",
    "from uncertainties import ufloat, unumpy\n",
    "\n",
    "from joblib import Parallel, delayed\n",
    "\n",
    "from tqdm import tqdm_notebook as tqdm\n",
    "\n",
    "from ipywidgets import interact, FloatSlider, IntSlider\n",
    "\n",
    "#import tomso\n",
    "#import tomso.gyre as gyre\n",
    "#import tomso.fgong as fgong"
   ]
  },
  {
   "cell_type": "code",
   "execution_count": 2,
   "metadata": {
    "ExecuteTime": {
     "end_time": "2023-02-06T10:42:32.258647Z",
     "start_time": "2023-02-06T10:42:32.098141Z"
    }
   },
   "outputs": [],
   "source": [
    "import seaborn as sns\n",
    "sns.set(style=\"ticks\", palette=\"muted\", rc={\"xtick.bottom\" : True, \"ytick.left\" : True})\n",
    "plt.style.use('figs/thinfig')\n",
    "red = \"#CA0020\"\n",
    "orange = \"#F97100\" \n",
    "blue = \"#0571b0\""
   ]
  },
  {
   "cell_type": "code",
   "execution_count": 3,
   "metadata": {
    "ExecuteTime": {
     "end_time": "2023-02-06T10:53:50.087379Z",
     "start_time": "2023-02-06T10:53:50.085695Z"
    }
   },
   "outputs": [],
   "source": [
    "# labels \n",
    "density     = r'density $\\mathbf{\\rho~/~[g/cm^3]}$'\n",
    "frac_radius = r'fractional radius $\\mathbf{r/R_\\odot}$'\n",
    "frac_mass   = r'fractional mass $\\mathbf{m/M_\\odot}$'\n",
    "Teff        = r'effective temperature $\\mathbf{T_{eff}/K}$'\n",
    "luminosity  = r'luminosity $\\mathbf{L/L_\\odot}$'"
   ]
  }
 ],
 "metadata": {
  "kernelspec": {
   "display_name": "Python 3 (ipykernel)",
   "language": "python",
   "name": "python3"
  },
  "language_info": {
   "codemirror_mode": {
    "name": "ipython",
    "version": 3
   },
   "file_extension": ".py",
   "mimetype": "text/x-python",
   "name": "python",
   "nbconvert_exporter": "python",
   "pygments_lexer": "ipython3",
   "version": "3.9.13"
  },
  "toc": {
   "base_numbering": 1,
   "nav_menu": {},
   "number_sections": true,
   "sideBar": true,
   "skip_h1_title": false,
   "title_cell": "Table of Contents",
   "title_sidebar": "Contents",
   "toc_cell": false,
   "toc_position": {},
   "toc_section_display": true,
   "toc_window_display": true
  },
  "varInspector": {
   "cols": {
    "lenName": 16,
    "lenType": 16,
    "lenVar": 40
   },
   "kernels_config": {
    "python": {
     "delete_cmd_postfix": "",
     "delete_cmd_prefix": "del ",
     "library": "var_list.py",
     "varRefreshCmd": "print(var_dic_list())"
    },
    "r": {
     "delete_cmd_postfix": ") ",
     "delete_cmd_prefix": "rm(",
     "library": "var_list.r",
     "varRefreshCmd": "cat(var_dic_list()) "
    }
   },
   "types_to_exclude": [
    "module",
    "function",
    "builtin_function_or_method",
    "instance",
    "_Feature"
   ],
   "window_display": false
  }
 },
 "nbformat": 4,
 "nbformat_minor": 4
}
